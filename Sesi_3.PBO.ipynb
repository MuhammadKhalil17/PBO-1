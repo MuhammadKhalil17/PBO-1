{
  "cells": [
    {
      "cell_type": "markdown",
      "metadata": {
        "id": "view-in-github",
        "colab_type": "text"
      },
      "source": [
        "<a href=\"https://colab.research.google.com/github/MuhammadKhalil17/PBO-1/blob/main/Salinan_dari_Selamat_Datang_di_Colab.ipynb\" target=\"_parent\"><img src=\"https://colab.research.google.com/assets/colab-badge.svg\" alt=\"Open In Colab\"/></a>"
      ]
    },
    {
      "cell_type": "code",
      "source": [
        "# Deklarasi variabel contoh dan 10 itu sebagai tanda 10 kali perulangan\n",
        "contoh = 10\n",
        "\n",
        "# Variabel i berfungsi untuk menampung indeks,\n",
        "# dan fungsi range() berfungsi untuk membuat list dari 0-10.\n",
        "for i in range(contoh):\n",
        "    print (\"Perulangan ke-\" +str(i))\n",
        "\n",
        "\n",
        "# Menampilkan range dari kumpulan deret tertentu\n",
        "# range(5,10) akan membuat deret angka mulai dari 5, 6, 7, 8, dan 9.\n",
        "\n",
        "for i in range(5,10):\n",
        "  print(i)"
      ],
      "metadata": {
        "id": "TlFkcGSY-x-2",
        "colab": {
          "base_uri": "https://localhost:8080/"
        },
        "outputId": "311fdd24-cdd8-4408-c9fd-3dc2ffe7eccc"
      },
      "execution_count": 1,
      "outputs": [
        {
          "output_type": "stream",
          "name": "stdout",
          "text": [
            "Perulangan ke-0\n",
            "Perulangan ke-1\n",
            "Perulangan ke-2\n",
            "Perulangan ke-3\n",
            "Perulangan ke-4\n",
            "Perulangan ke-5\n",
            "Perulangan ke-6\n",
            "Perulangan ke-7\n",
            "Perulangan ke-8\n",
            "Perulangan ke-9\n",
            "5\n",
            "6\n",
            "7\n",
            "8\n",
            "9\n"
          ]
        }
      ]
    },
    {
      "cell_type": "code",
      "source": [
        "# Deklarasi variabel contoh2 dengan tipe list\n",
        "contoh2 = ['saya','suka','minum','kopi', 'gayo']\n",
        "\n",
        "for isi in contoh2:\n",
        "    print (isi)"
      ],
      "metadata": {
        "id": "0eN8udr4-4Lu",
        "colab": {
          "base_uri": "https://localhost:8080/"
        },
        "outputId": "18698bcf-3268-417a-dcdb-9617c2b1451f"
      },
      "execution_count": 2,
      "outputs": [
        {
          "output_type": "stream",
          "name": "stdout",
          "text": [
            "saya\n",
            "suka\n",
            "minum\n",
            "kopi\n",
            "gayo\n"
          ]
        }
      ]
    },
    {
      "cell_type": "code",
      "source": [
        "# Deklarasi variabel hit\n",
        "hit = 0\n",
        "# Membuat kondisi\n",
        "while (hit < 5):\n",
        "    print(hit, \"kurang dari 5\")\n",
        "    hit = hit + 1\n",
        "else:\n",
        "# Menampilkan output salam jika kondisi sudah terpenuhi\n",
        "    print(\"Salammmm\")\n"
      ],
      "metadata": {
        "id": "GGEb4i50_Axc",
        "colab": {
          "base_uri": "https://localhost:8080/"
        },
        "outputId": "0e08b00c-3a09-4f90-b8f1-9c437b37ed40"
      },
      "execution_count": 3,
      "outputs": [
        {
          "output_type": "stream",
          "name": "stdout",
          "text": [
            "0 kurang dari 5\n",
            "1 kurang dari 5\n",
            "2 kurang dari 5\n",
            "3 kurang dari 5\n",
            "4 kurang dari 5\n",
            "Salammmm\n"
          ]
        }
      ]
    },
    {
      "cell_type": "code",
      "source": [
        "##\n",
        "# Program menghitung Faktor Persekutuan Terbesa\n",
        "#\n",
        "\n",
        "# Membaca dua bilangan positif dari user\n",
        "n = int(input(\"Masukkan bilangan positif:\"))\n",
        "m = int(input(\"Masukkan bilangan positif:\"))\n",
        "\n",
        "# Inisialisasi variabel untuk nilai terkecil dari n dan m\n",
        "d = min(n, m)\n",
        "\n",
        "# Gunakan loop while untuk mencari FPT\n",
        "while n % d != 0 or m % d != 0:\n",
        "  d = d - 1\n",
        "\n",
        "# Menampilkan hasil\n",
        "print(\"Faktor persekutuan terbesar dari\", n, \"dan\", m, \" adalah\", d)"
      ],
      "metadata": {
        "id": "jaaNcnsT_FOm",
        "colab": {
          "base_uri": "https://localhost:8080/"
        },
        "outputId": "8572b85a-e6c2-45d4-f35d-cef3155e231c"
      },
      "execution_count": 4,
      "outputs": [
        {
          "output_type": "stream",
          "name": "stdout",
          "text": [
            "Masukkan bilangan positif:10\n",
            "Masukkan bilangan positif:1\n",
            "Faktor persekutuan terbesar dari 10 dan 1  adalah 1\n"
          ]
        }
      ]
    },
    {
      "cell_type": "code",
      "source": [
        "##\n",
        "# Menentukan nilai maksimum 100 bilangan bulat, menghitung berapa kali\n",
        "# perulangan\n",
        "\n",
        "from random import randrange\n",
        "\n",
        "BIL_ITEMS = 100\n",
        "\n",
        "# Generate the first number and menampilkan nya\n",
        "maks_nilai = randrange(1, BIL_ITEMS + 1)\n",
        "print(maks_nilai)\n",
        "\n",
        "# Menghitung berapa kali perubahan\n",
        "bil_update = 0\n",
        "\n",
        "# Untuk setiap bilangan\n",
        "for i in range(1, BIL_ITEMS):\n",
        "  # Generate bilangan acak\n",
        "  current = randrange(1, BIL_ITEMS + 1)\n",
        "\n",
        "  # Kondisi jika ditemukan bilangan terbesar\n",
        "  if current > maks_nilai:\n",
        "    # Update nilai maksimum dan hitung perubahan\n",
        "    maks_nilai = current\n",
        "    bil_update = bil_update + 1\n",
        "    # Tampilkan bilangan jika masih ada proses update\n",
        "    print(current, \"<== Update\")\n",
        "  else:\n",
        "    #Tampilkan bilangan\n",
        "    print(current)\n",
        "\n",
        "# Tampilkan Hasil Terakhir\n",
        "print(\" Nilai maksimum yang ditemukan adalah\", maks_nilai)\n",
        "print(\"Nilai maksimum yang di-update\", bil_update, \"kali\")\n"
      ],
      "metadata": {
        "id": "gfu6cOCn_J7z",
        "colab": {
          "base_uri": "https://localhost:8080/"
        },
        "outputId": "6037c506-f87a-411b-ec53-2e511dbab509"
      },
      "execution_count": 5,
      "outputs": [
        {
          "output_type": "stream",
          "name": "stdout",
          "text": [
            "84\n",
            "77\n",
            "54\n",
            "32\n",
            "30\n",
            "22\n",
            "23\n",
            "28\n",
            "46\n",
            "8\n",
            "23\n",
            "23\n",
            "38\n",
            "19\n",
            "8\n",
            "48\n",
            "84\n",
            "94 <== Update\n",
            "65\n",
            "61\n",
            "10\n",
            "14\n",
            "35\n",
            "52\n",
            "24\n",
            "87\n",
            "27\n",
            "36\n",
            "50\n",
            "91\n",
            "11\n",
            "51\n",
            "96 <== Update\n",
            "69\n",
            "16\n",
            "43\n",
            "37\n",
            "80\n",
            "43\n",
            "10\n",
            "61\n",
            "29\n",
            "38\n",
            "99 <== Update\n",
            "100 <== Update\n",
            "28\n",
            "38\n",
            "95\n",
            "38\n",
            "7\n",
            "15\n",
            "87\n",
            "3\n",
            "8\n",
            "31\n",
            "83\n",
            "43\n",
            "26\n",
            "49\n",
            "17\n",
            "40\n",
            "70\n",
            "45\n",
            "94\n",
            "41\n",
            "27\n",
            "45\n",
            "81\n",
            "94\n",
            "83\n",
            "41\n",
            "71\n",
            "51\n",
            "18\n",
            "20\n",
            "7\n",
            "81\n",
            "44\n",
            "83\n",
            "57\n",
            "61\n",
            "8\n",
            "73\n",
            "71\n",
            "36\n",
            "77\n",
            "64\n",
            "70\n",
            "1\n",
            "99\n",
            "32\n",
            "65\n",
            "85\n",
            "36\n",
            "71\n",
            "92\n",
            "53\n",
            "16\n",
            "85\n",
            "93\n",
            " Nilai maksimum yang ditemukan adalah 100\n",
            "Nilai maksimum yang di-update 4 kali\n"
          ]
        }
      ]
    }
  ],
  "metadata": {
    "colab": {
      "toc_visible": true,
      "provenance": [],
      "include_colab_link": true
    },
    "kernelspec": {
      "display_name": "Python 3",
      "name": "python3"
    }
  },
  "nbformat": 4,
  "nbformat_minor": 0
}
